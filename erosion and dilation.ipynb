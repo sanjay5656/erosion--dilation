{
 "cells": [
  {
   "cell_type": "code",
   "execution_count": null,
   "id": "f933c14f",
   "metadata": {},
   "outputs": [],
   "source": [
    "# Import the necessary packages\n",
    "import numpy as np\n",
    "import cv2\n",
    "import matplotlib.pyplot as plt"
   ]
  },
  {
   "cell_type": "code",
   "execution_count": null,
   "id": "cbf9a81c",
   "metadata": {},
   "outputs": [],
   "source": [
    "# Create the text using cv2.putText\n",
    "img = np.zeros((100,400),dtype = 'uint8')\n",
    "font = cv2.FONT_HERSHEY_SIMPLEX\n",
    "cv2.putText(img ,'Sanjay S',(60,70),font,2,(255),5,cv2.LINE_AA)\n",
    "plt.imshow(img)\n",
    "plt.axis('off')"
   ]
  },
  {
   "cell_type": "code",
   "execution_count": null,
   "id": "fcb4143e",
   "metadata": {},
   "outputs": [],
   "source": [
    "# Create the structuring element\n",
    "kernel = np.ones((5,5),np.uint8)\n",
    "kernel1 = cv2.getStructuringElement(cv2.MORPH_CROSS,(5,5))\n",
    "cv2.erode(img,kernel)"
   ]
  },
  {
   "cell_type": "code",
   "execution_count": null,
   "id": "668dc5ea",
   "metadata": {},
   "outputs": [],
   "source": [
    "# Erode the image\n",
    "img_erode = cv2.erode(img,kernel1)\n",
    "plt.imshow(img_erode)\n",
    "plt.axis('off')"
   ]
  },
  {
   "cell_type": "code",
   "execution_count": null,
   "id": "fbab5844",
   "metadata": {},
   "outputs": [],
   "source": [
    "# Dilate the image\n",
    "img_dilate = cv2.dilate(img,kernel1)\n",
    "plt.imshow(img_dilate)\n",
    "plt.axis('off')\n",
    "\n",
    "\n"
   ]
  }
 ],
 "metadata": {
  "kernelspec": {
   "display_name": "Python 3 (ipykernel)",
   "language": "python",
   "name": "python3"
  },
  "language_info": {
   "codemirror_mode": {
    "name": "ipython",
    "version": 3
   },
   "file_extension": ".py",
   "mimetype": "text/x-python",
   "name": "python",
   "nbconvert_exporter": "python",
   "pygments_lexer": "ipython3",
   "version": "3.9.12"
  }
 },
 "nbformat": 4,
 "nbformat_minor": 5
}
